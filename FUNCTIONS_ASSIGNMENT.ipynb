{
  "nbformat": 4,
  "nbformat_minor": 0,
  "metadata": {
    "colab": {
      "provenance": []
    },
    "kernelspec": {
      "name": "python3",
      "display_name": "Python 3"
    },
    "language_info": {
      "name": "python"
    }
  },
  "cells": [
    {
      "cell_type": "code",
      "execution_count": null,
      "metadata": {
        "id": "WXWaXKr7mgJg"
      },
      "outputs": [],
      "source": [
        "Name : Derrick Sumit\n",
        "Email : sumitderrick@gmail.com\n",
        "Assignment Name : functions aasignment\n",
        "drive link: N/A\n",
        "github link :"
      ]
    },
    {
      "cell_type": "markdown",
      "source": [],
      "metadata": {
        "id": "_l9x-rBV2OOE"
      }
    },
    {
      "cell_type": "markdown",
      "source": [
        "FUNCTIONS\n",
        "1. What is the difference between a function and a method in Python?\n",
        "\n",
        " >>>function is a block of code which performs some specific task or computation.\n",
        "  \n",
        "  It can exist independently outside the class or object\n",
        "\n",
        "\n"
      ],
      "metadata": {
        "id": "0znLqkNCmmdq"
      }
    },
    {
      "cell_type": "code",
      "source": [
        "#ex of function\n",
        "def greet(name):\n",
        "    return f\"Hello, {name}!\"\n",
        "\n",
        "print(greet(\"Alice\"))  # Output: Hello, Alice!\n"
      ],
      "metadata": {
        "colab": {
          "base_uri": "https://localhost:8080/"
        },
        "id": "3b41DN1w3K7r",
        "outputId": "72c70d8e-b918-403f-ba31-8ad7860654e9"
      },
      "execution_count": null,
      "outputs": [
        {
          "output_type": "stream",
          "name": "stdout",
          "text": [
            "Hello, Alice!\n"
          ]
        }
      ]
    },
    {
      "cell_type": "markdown",
      "source": [
        ">>> whereas A method is a function that is associated with an object.\n",
        "It is called on an object and can access or modify the object’s state.\n",
        "\n",
        "The first parameter of an instance method is usually \"self\", referring to the object itself."
      ],
      "metadata": {
        "id": "1faKVXTj3cY3"
      }
    },
    {
      "cell_type": "code",
      "source": [
        "#ex of moderator\n",
        "class Greeter:\n",
        "    def greet(self, name):\n",
        "        return f\"Hello, {name}!\"\n",
        "\n",
        "g = Greeter()\n",
        "print(g.greet(\"Bob\"))  # Output: Hello, Bob!\n"
      ],
      "metadata": {
        "colab": {
          "base_uri": "https://localhost:8080/"
        },
        "id": "_pnyt9aU3OAI",
        "outputId": "afeab011-5ff9-44a1-f605-e56aea0ddf39"
      },
      "execution_count": null,
      "outputs": [
        {
          "output_type": "stream",
          "name": "stdout",
          "text": [
            "Hello, Bob!\n"
          ]
        }
      ]
    },
    {
      "cell_type": "code",
      "source": [],
      "metadata": {
        "id": "V_638A8F4OYD"
      },
      "execution_count": null,
      "outputs": []
    },
    {
      "cell_type": "markdown",
      "source": [
        "2.  Explain the concept of function arguments and parameters in Python.\n",
        "\n",
        "ANS.PARAMETERS : These are the variables defined inside the parentheses of a function. They act as placeholders for the values we pass into the function\n",
        "\n",
        "Arguments:\n",
        "These are the actual values we provide when we call the function. They are assigned to the parameters."
      ],
      "metadata": {
        "id": "Dlu1fUAz4TpF"
      }
    },
    {
      "cell_type": "code",
      "source": [
        "# Function definition with parameters\n",
        "def greet(name, age):\n",
        "    print(f\"Hello {name}, you are {age} years old.\")\n",
        "\n",
        "# Function call with arguments\n",
        "greet(\"Ayush\", 20)\n"
      ],
      "metadata": {
        "colab": {
          "base_uri": "https://localhost:8080/"
        },
        "id": "SNADluDJ7dFy",
        "outputId": "7c7345db-67c8-43bc-9b53-343eb4523d39"
      },
      "execution_count": null,
      "outputs": [
        {
          "output_type": "stream",
          "name": "stdout",
          "text": [
            "Hello Ayush, you are 20 years old.\n"
          ]
        }
      ]
    },
    {
      "cell_type": "markdown",
      "source": [
        "3.  What are the different ways to define and call a function in Python?\n",
        "\n",
        "ANS: In Python, we can define a function using the def keyword with or without parameters. Functions can be called using positional arguments, keyword arguments, or with default parameter values. we can also define functions with *args for multiple values and **kwargs for keyword-based values. Anonymous functions can be created using the lambda keyword. Calling is done simply by using the function name followed by parentheses."
      ],
      "metadata": {
        "id": "0YQCGtBY7tUC"
      }
    },
    {
      "cell_type": "code",
      "source": [
        "# simple function\n",
        "def greet(name):\n",
        "    return f\"Hello {name}\"\n",
        "\n",
        "# function with default value\n",
        "def add(a, b=5):\n",
        "    return a + b\n",
        "\n",
        "print(greet(\"Aman\"))          # positional argument\n",
        "print(add(10))                # default argument used\n",
        "print(add(a=10, b=20))        # keyword arguments\n"
      ],
      "metadata": {
        "colab": {
          "base_uri": "https://localhost:8080/"
        },
        "id": "G5JWg5mI-2TA",
        "outputId": "8b82e701-f2a8-4e2a-d760-72c93dc9e788"
      },
      "execution_count": null,
      "outputs": [
        {
          "output_type": "stream",
          "name": "stdout",
          "text": [
            "Hello Aman\n",
            "15\n",
            "30\n"
          ]
        }
      ]
    },
    {
      "cell_type": "code",
      "source": [],
      "metadata": {
        "id": "pQ5dzfit-35r"
      },
      "execution_count": null,
      "outputs": []
    },
    {
      "cell_type": "markdown",
      "source": [
        "4. What is the purpose of the `return` statement in a Python function?\n",
        "\n",
        "ANS:The return statement in Python is used to send a value back from a function to the place where it was called. Without return, a function just performs its task but gives nothing back. It helps store or reuse the result of a function."
      ],
      "metadata": {
        "id": "pKzrGvC4-_kZ"
      }
    },
    {
      "cell_type": "code",
      "source": [
        "def square(num):\n",
        "    return num * num   # sends the result back\n",
        "\n",
        "result = square(6)\n",
        "print(result)\n"
      ],
      "metadata": {
        "colab": {
          "base_uri": "https://localhost:8080/"
        },
        "id": "NuFCA7IQ_T14",
        "outputId": "1a3cdf13-d3fc-4405-ed5b-84711e89b2c7"
      },
      "execution_count": null,
      "outputs": [
        {
          "output_type": "stream",
          "name": "stdout",
          "text": [
            "36\n"
          ]
        }
      ]
    },
    {
      "cell_type": "code",
      "source": [],
      "metadata": {
        "id": "uo_2KhzO_dwl"
      },
      "execution_count": null,
      "outputs": []
    },
    {
      "cell_type": "markdown",
      "source": [
        "5. What are iterators in Python and how do they differ from iterables?\n",
        "\n",
        "ans: In Python, an iterable is any object that can be looped over (like lists, tuples, strings). An iterator is an object that remembers its state and produces items one by one when you call next() on it. The main difference is: iterables can be converted into iterators using iter(), while iterators generate values lazily and keep track of where they are."
      ],
      "metadata": {
        "id": "NUjbcnQo_hqg"
      }
    },
    {
      "cell_type": "code",
      "source": [
        "#FOR EX\n",
        "nums = [1, 2, 3]       # this is an iterable\n",
        "it = iter(nums)        # creating an iterator from iterable\n",
        "\n",
        "print(next(it))  # 1\n",
        "print(next(it))  # 2\n",
        "print(next(it))  # 3\n"
      ],
      "metadata": {
        "colab": {
          "base_uri": "https://localhost:8080/"
        },
        "id": "wbDL8da2_2DO",
        "outputId": "8ee46d8a-ac7c-42b2-9787-85e4656c907e"
      },
      "execution_count": null,
      "outputs": [
        {
          "output_type": "stream",
          "name": "stdout",
          "text": [
            "1\n",
            "2\n",
            "3\n"
          ]
        }
      ]
    },
    {
      "cell_type": "markdown",
      "source": [
        "6. Explain the concept of generators in Python and how they are defined.\n",
        "\n",
        "ANS: A generator in Python is a special type of function that allows you to generate values one at a time using the yield keyword instead of return. Unlike normal functions, generators don’t store all values in memory at once—they produce them on the fly, making them memory-efficient and useful for large data or infinite sequences."
      ],
      "metadata": {
        "id": "obyu9QjIAHMF"
      }
    },
    {
      "cell_type": "code",
      "source": [
        "#FOR EX\n",
        "def countdown(n):\n",
        "    while n > 0:\n",
        "        yield n   # pauses and returns a value\n",
        "        n -= 1\n",
        "\n",
        "for num in countdown(5):\n",
        "    print(num)\n"
      ],
      "metadata": {
        "colab": {
          "base_uri": "https://localhost:8080/"
        },
        "id": "8jRxYvTwAt0q",
        "outputId": "15501b0a-0a35-4e7e-b0c9-5522d143a494"
      },
      "execution_count": null,
      "outputs": [
        {
          "output_type": "stream",
          "name": "stdout",
          "text": [
            "5\n",
            "4\n",
            "3\n",
            "2\n",
            "1\n"
          ]
        }
      ]
    },
    {
      "cell_type": "code",
      "source": [],
      "metadata": {
        "id": "jyW41VySAxnR"
      },
      "execution_count": null,
      "outputs": []
    },
    {
      "cell_type": "markdown",
      "source": [
        "7. What are the advantages of using generators over regular functions?\n",
        "\n",
        "ANS: Generators have several advantages over regular functions in Python:\n",
        "\n",
        "a)Memory efficient – They produce values one at a time instead of storing everything in memory.\n",
        "\n",
        "b)Lazy evaluation – Values are generated only when needed, which is useful for large datasets.\n",
        "\n",
        "c)Simpler code – They make it easy to write iterators without creating a full class with __iter__ and __next__.\n",
        "\n",
        "d)Can represent infinite sequences – Since they don’t generate everything at once, they can model endless streams of data."
      ],
      "metadata": {
        "id": "TUXe64NuA14c"
      }
    },
    {
      "cell_type": "code",
      "source": [
        "#for ex\n",
        "def squares(n):\n",
        "    for i in range(1, n+1):\n",
        "        yield i * i   # generator\n",
        "\n",
        "for val in squares(5):\n",
        "    print(val)\n"
      ],
      "metadata": {
        "colab": {
          "base_uri": "https://localhost:8080/"
        },
        "id": "F5DeA2LaDS9L",
        "outputId": "23894448-4acc-4a83-e350-c57bfdf1975e"
      },
      "execution_count": null,
      "outputs": [
        {
          "output_type": "stream",
          "name": "stdout",
          "text": [
            "1\n",
            "4\n",
            "9\n",
            "16\n",
            "25\n"
          ]
        }
      ]
    },
    {
      "cell_type": "code",
      "source": [],
      "metadata": {
        "id": "HZbdGx6vEGBD"
      },
      "execution_count": null,
      "outputs": []
    },
    {
      "cell_type": "markdown",
      "source": [
        "8. What is a lambda function in Python and when is it typically used?\n",
        "\n",
        " ANS: A lambda function in Python is a small anonymous function created using the lambda keyword instead of def. It is typically used when we need a short function for a limited time, especially inside functions like map(), filter(), or sorted()"
      ],
      "metadata": {
        "id": "fmw6moTQEHLZ"
      }
    },
    {
      "cell_type": "code",
      "source": [
        "#FOR EX\n",
        "# Lambda to double a number\n",
        "double = lambda x: x * 2\n",
        "\n",
        "print(double(5))\n"
      ],
      "metadata": {
        "colab": {
          "base_uri": "https://localhost:8080/"
        },
        "id": "AWwX9StMEgGS",
        "outputId": "e3d14b14-8e0b-4363-fc36-c11151d5bdbd"
      },
      "execution_count": null,
      "outputs": [
        {
          "output_type": "stream",
          "name": "stdout",
          "text": [
            "10\n"
          ]
        }
      ]
    },
    {
      "cell_type": "code",
      "source": [],
      "metadata": {
        "id": "sGWmDCEeEner"
      },
      "execution_count": null,
      "outputs": []
    },
    {
      "cell_type": "markdown",
      "source": [
        "9. Explain the purpose and usage of the `map()` function in Python.\n",
        "\n",
        "ANS: The map() function in Python is used to apply a function to every item in an iterable (like a list, tuple, or set) and return a map object (which is an iterator). WE can then convert this map object into a list, tuple, or another iterable type.\n",
        "\n",
        "Purpose:\n",
        "\n",
        "To transform or process each element of an iterable without writing an explicit loop.\n",
        "\n",
        "Makes code more concise and readable.\n",
        "\n",
        "Often used with built-in functions or lambda functions for quick transformations."
      ],
      "metadata": {
        "id": "7qiXsBhVE6IZ"
      }
    },
    {
      "cell_type": "code",
      "source": [
        "#FOR EX\n",
        "words = [\"python\", \"map\", \"function\"]\n",
        "\n",
        "uppercased = map(str.upper, words)\n",
        "\n",
        "print(list(uppercased))\n"
      ],
      "metadata": {
        "colab": {
          "base_uri": "https://localhost:8080/"
        },
        "id": "3p9f8No4GQsI",
        "outputId": "b036c058-e515-460a-c402-9af5c02b0466"
      },
      "execution_count": null,
      "outputs": [
        {
          "output_type": "stream",
          "name": "stdout",
          "text": [
            "['PYTHON', 'MAP', 'FUNCTION']\n"
          ]
        }
      ]
    },
    {
      "cell_type": "code",
      "source": [],
      "metadata": {
        "id": "USziS0dmGYjC"
      },
      "execution_count": null,
      "outputs": []
    },
    {
      "cell_type": "markdown",
      "source": [
        "10. What is the difference between `map()`, `reduce()`, and `filter()` functions in Python?\n",
        "\n",
        "ANS: 1. map()\n",
        "\n",
        "The map() function is used when we want to apply a function to every element of an iterable.\n",
        "\n",
        "It transforms the data but keeps the same number of elements as the input\n",
        "\n",
        "2. filter()\n",
        "\n",
        "The filter() function is used when we want to pick only certain elements from an iterable based on a condition.\n",
        "\n",
        "It does not change the values, only decides whether to keep or discard them.\n",
        "\n",
        "3. reduce()\n",
        "\n",
        "The reduce() function (from the functools module) is used when you want to combine all elements into a single value.\n",
        "\n",
        "It repeatedly applies a function to pairs of elements until only one result remains."
      ],
      "metadata": {
        "id": "AKLrMJ1gGdS3"
      }
    },
    {
      "cell_type": "code",
      "source": [
        "#example of map()\n",
        "numbers = [1, 2, 3, 4, 5]\n",
        "squared = map(lambda x: x**2, numbers)\n",
        "print(list(squared))\n"
      ],
      "metadata": {
        "colab": {
          "base_uri": "https://localhost:8080/"
        },
        "id": "m1eX0ACLHKe-",
        "outputId": "ea383955-c1d7-4a3f-a891-724b8c10f524"
      },
      "execution_count": null,
      "outputs": [
        {
          "output_type": "stream",
          "name": "stdout",
          "text": [
            "[1, 4, 9, 16, 25]\n"
          ]
        }
      ]
    },
    {
      "cell_type": "code",
      "source": [
        "#ex of filter()\n",
        "numbers = [1, 2, 3, 4, 5]\n",
        "evens = filter(lambda x: x % 2 == 0, numbers)\n",
        "print(list(evens))\n"
      ],
      "metadata": {
        "colab": {
          "base_uri": "https://localhost:8080/"
        },
        "id": "jt0VD3DPHX1L",
        "outputId": "e3430a14-3b33-431f-933b-6619bf04f041"
      },
      "execution_count": null,
      "outputs": [
        {
          "output_type": "stream",
          "name": "stdout",
          "text": [
            "[2, 4]\n"
          ]
        }
      ]
    },
    {
      "cell_type": "code",
      "source": [
        "#ex of reduce()\n",
        "from functools import reduce\n",
        "\n",
        "numbers = [1, 2, 3, 4, 5]\n",
        "total = reduce(lambda x, y: x + y, numbers)\n",
        "print(total)\n"
      ],
      "metadata": {
        "colab": {
          "base_uri": "https://localhost:8080/"
        },
        "id": "z3Lvy1L2H6Hf",
        "outputId": "1e80187d-e5f0-419e-abf8-8c9ab5ba4c0e"
      },
      "execution_count": null,
      "outputs": [
        {
          "output_type": "stream",
          "name": "stdout",
          "text": [
            "15\n"
          ]
        }
      ]
    },
    {
      "cell_type": "code",
      "source": [],
      "metadata": {
        "id": "o6zQaK84IDSr"
      },
      "execution_count": null,
      "outputs": []
    },
    {
      "cell_type": "markdown",
      "source": [],
      "metadata": {
        "id": "oAhfgnRlTjdr"
      }
    },
    {
      "cell_type": "markdown",
      "source": [
        "PRACTICAL **QUESTIONS**"
      ],
      "metadata": {
        "id": "_7JJ5JAaLp6l"
      }
    },
    {
      "cell_type": "markdown",
      "source": [],
      "metadata": {
        "id": "II2PnBe8Knfx"
      }
    },
    {
      "cell_type": "markdown",
      "source": [
        "1. Write a Python function that takes a list of numbers as input and returns the sum of all even numbers in\n",
        "the list."
      ],
      "metadata": {
        "id": "OABPIogRL7XG"
      }
    },
    {
      "cell_type": "code",
      "source": [
        "def sum_of_evens(numbers):\n",
        "    even_sum = 0\n",
        "    for num in numbers:\n",
        "        if num % 2 == 0:   # check if number is even\n",
        "            even_sum += num\n",
        "    return even_sum\n",
        "\n",
        "\n",
        "# Example usage\n",
        "nums = [1, 2, 3, 4, 5, 6]\n",
        "print(sum_of_evens(nums))\n"
      ],
      "metadata": {
        "colab": {
          "base_uri": "https://localhost:8080/"
        },
        "id": "tCxy6JXmMQCT",
        "outputId": "22203067-7106-4705-db08-674203421e57"
      },
      "execution_count": null,
      "outputs": [
        {
          "output_type": "stream",
          "name": "stdout",
          "text": [
            "12\n"
          ]
        }
      ]
    },
    {
      "cell_type": "markdown",
      "source": [
        "2. Create a Python function that accepts a string and returns the reverse of that string."
      ],
      "metadata": {
        "id": "ZvcxAcT8MX2Z"
      }
    },
    {
      "cell_type": "code",
      "source": [
        "def reverse_string(text):\n",
        "    return text[::-1]   # slicing with step -1 reverses the string\n",
        "\n",
        "\n",
        "# Example usage\n",
        "word = \"Python\"\n",
        "print(reverse_string(word))\n"
      ],
      "metadata": {
        "colab": {
          "base_uri": "https://localhost:8080/"
        },
        "id": "Fiz6eEzKMgeV",
        "outputId": "a62521f0-4913-43c0-ae25-eae9bcbfe527"
      },
      "execution_count": null,
      "outputs": [
        {
          "output_type": "stream",
          "name": "stdout",
          "text": [
            "nohtyP\n"
          ]
        }
      ]
    },
    {
      "cell_type": "markdown",
      "source": [
        "3.Implement a Python function that takes a list of integers and returns a new list containing the squares of\n",
        "each number."
      ],
      "metadata": {
        "id": "e4ImLfSjM4Mm"
      }
    },
    {
      "cell_type": "code",
      "source": [
        "def square_numbers(numbers):\n",
        "    squared_list = []\n",
        "    for num in numbers:\n",
        "        squared_list.append(num ** 2)\n",
        "    return squared_list\n",
        "\n",
        "\n",
        "# Example usage\n",
        "nums = [1, 2, 3, 4, 5]\n",
        "print(square_numbers(nums))\n"
      ],
      "metadata": {
        "colab": {
          "base_uri": "https://localhost:8080/"
        },
        "id": "53vYtT1yNJAy",
        "outputId": "c33960a8-24ec-4401-c9f2-f4af176384ce"
      },
      "execution_count": null,
      "outputs": [
        {
          "output_type": "stream",
          "name": "stdout",
          "text": [
            "[1, 4, 9, 16, 25]\n"
          ]
        }
      ]
    },
    {
      "cell_type": "markdown",
      "source": [
        "4. Write a Python function that checks if a given number is prime or not from 1 to 200"
      ],
      "metadata": {
        "id": "IS4kT8a7NZBT"
      }
    },
    {
      "cell_type": "code",
      "source": [
        "def is_prime(n):\n",
        "    if n <= 1:   # 0 and 1 are not prime\n",
        "        return False\n",
        "    for i in range(2, int(n**0.5) + 1):  # check divisibility up to sqrt(n)\n",
        "        if n % i == 0:\n",
        "            return False\n",
        "    return True\n",
        "\n",
        "\n",
        "# Example usage: Check numbers from 1 to 200\n",
        "for num in range(1, 201):\n",
        "    if is_prime(num):\n",
        "        print(num, \"is a prime number\")\n"
      ],
      "metadata": {
        "colab": {
          "base_uri": "https://localhost:8080/"
        },
        "id": "DgU2OJX1Ni8E",
        "outputId": "77840629-36a3-447c-d764-b3fb79a59b79"
      },
      "execution_count": null,
      "outputs": [
        {
          "output_type": "stream",
          "name": "stdout",
          "text": [
            "2 is a prime number\n",
            "3 is a prime number\n",
            "5 is a prime number\n",
            "7 is a prime number\n",
            "11 is a prime number\n",
            "13 is a prime number\n",
            "17 is a prime number\n",
            "19 is a prime number\n",
            "23 is a prime number\n",
            "29 is a prime number\n",
            "31 is a prime number\n",
            "37 is a prime number\n",
            "41 is a prime number\n",
            "43 is a prime number\n",
            "47 is a prime number\n",
            "53 is a prime number\n",
            "59 is a prime number\n",
            "61 is a prime number\n",
            "67 is a prime number\n",
            "71 is a prime number\n",
            "73 is a prime number\n",
            "79 is a prime number\n",
            "83 is a prime number\n",
            "89 is a prime number\n",
            "97 is a prime number\n",
            "101 is a prime number\n",
            "103 is a prime number\n",
            "107 is a prime number\n",
            "109 is a prime number\n",
            "113 is a prime number\n",
            "127 is a prime number\n",
            "131 is a prime number\n",
            "137 is a prime number\n",
            "139 is a prime number\n",
            "149 is a prime number\n",
            "151 is a prime number\n",
            "157 is a prime number\n",
            "163 is a prime number\n",
            "167 is a prime number\n",
            "173 is a prime number\n",
            "179 is a prime number\n",
            "181 is a prime number\n",
            "191 is a prime number\n",
            "193 is a prime number\n",
            "197 is a prime number\n",
            "199 is a prime number\n"
          ]
        }
      ]
    },
    {
      "cell_type": "code",
      "source": [],
      "metadata": {
        "id": "NsyQ6hA9ODJ9"
      },
      "execution_count": null,
      "outputs": []
    },
    {
      "cell_type": "markdown",
      "source": [
        "5. Create an iterator class in Python that generates the Fibonacci sequence up to a specified number of\n",
        "terms."
      ],
      "metadata": {
        "id": "7VJRwg7eOEk0"
      }
    },
    {
      "cell_type": "code",
      "source": [
        "class FibonacciIterator:\n",
        "    def __init__(self, max_terms):\n",
        "        self.max_terms = max_terms   # number of terms to generate\n",
        "        self.count = 0               # how many terms generated so far\n",
        "        self.a, self.b = 0, 1        # starting values of Fibonacci\n",
        "\n",
        "    def __iter__(self):\n",
        "        return self  # the object itself is the iterator\n",
        "\n",
        "    def __next__(self):\n",
        "        if self.count >= self.max_terms:\n",
        "            raise StopIteration  # stop when terms are exhausted\n",
        "\n",
        "        # generate next Fibonacci number\n",
        "        if self.count == 0:\n",
        "            self.count += 1\n",
        "            return self.a\n",
        "        elif self.count == 1:\n",
        "            self.count += 1\n",
        "            return self.b\n",
        "        else:\n",
        "            self.a, self.b = self.b, self.a + self.b\n",
        "            self.count += 1\n",
        "            return self.b\n",
        "\n",
        "\n",
        "# Example usage\n",
        "fib = FibonacciIterator(10)   # first 10 Fibonacci numbers\n",
        "for num in fib:\n",
        "    print(num, end=\" \")\n"
      ],
      "metadata": {
        "colab": {
          "base_uri": "https://localhost:8080/"
        },
        "id": "9vv_B07-OGhI",
        "outputId": "ba6a5eb8-49b7-4046-f57a-f5d094c6359f"
      },
      "execution_count": null,
      "outputs": [
        {
          "output_type": "stream",
          "name": "stdout",
          "text": [
            "0 1 1 2 3 5 8 13 21 34 "
          ]
        }
      ]
    },
    {
      "cell_type": "code",
      "source": [],
      "metadata": {
        "id": "JK3rYoUdOQuZ"
      },
      "execution_count": null,
      "outputs": []
    },
    {
      "cell_type": "markdown",
      "source": [
        "6. Write a generator function in Python that yields the powers of 2 up to a given exponent."
      ],
      "metadata": {
        "id": "nbuUdK7OOYu1"
      }
    },
    {
      "cell_type": "code",
      "source": [
        "def powers_of_two(n):\n",
        "    for i in range(n + 1):   # from 0 to n\n",
        "        yield 2 ** i\n",
        "\n",
        "\n",
        "# Example usage\n",
        "for value in powers_of_two(5):\n",
        "    print(value, end=\" \")\n"
      ],
      "metadata": {
        "colab": {
          "base_uri": "https://localhost:8080/"
        },
        "id": "YVus-b0qOZkt",
        "outputId": "99c29732-edea-439f-e73d-3674427660ea"
      },
      "execution_count": null,
      "outputs": [
        {
          "output_type": "stream",
          "name": "stdout",
          "text": [
            "1 2 4 8 16 32 "
          ]
        }
      ]
    },
    {
      "cell_type": "code",
      "source": [],
      "metadata": {
        "id": "WqvKw-J2OgxG"
      },
      "execution_count": null,
      "outputs": []
    },
    {
      "cell_type": "markdown",
      "source": [
        "7. Implement a generator function that reads a file line by line and yields each line as a string."
      ],
      "metadata": {
        "id": "L3b1NjigOh3X"
      }
    },
    {
      "cell_type": "code",
      "source": [
        "def read_file_lines(filename):\n",
        "    with open(filename, \"r\") as file:\n",
        "        for line in file:\n",
        "            yield line.strip()   # strip() removes extra newline characters\n",
        "\n",
        "\n"
      ],
      "metadata": {
        "id": "VYkmL2eKOmYF"
      },
      "execution_count": null,
      "outputs": []
    },
    {
      "cell_type": "code",
      "source": [],
      "metadata": {
        "id": "KxZUqTDYOt_d"
      },
      "execution_count": null,
      "outputs": []
    },
    {
      "cell_type": "markdown",
      "source": [
        "8. Use a lambda function in Python to sort a list of tuples based on the second element of each tuple."
      ],
      "metadata": {
        "id": "G48ujU7fPJBH"
      }
    },
    {
      "cell_type": "code",
      "source": [
        "# List of tuples\n",
        "data = [(1, 5), (3, 1), (4, 6), (2, 3)]\n",
        "\n",
        "# Sort by the second element using lambda\n",
        "sorted_data = sorted(data, key=lambda x: x[1])\n",
        "\n",
        "print(sorted_data)\n"
      ],
      "metadata": {
        "colab": {
          "base_uri": "https://localhost:8080/"
        },
        "id": "-orKH6FZPJsw",
        "outputId": "f53a3579-dc64-425e-bac9-7fba3d6922f3"
      },
      "execution_count": null,
      "outputs": [
        {
          "output_type": "stream",
          "name": "stdout",
          "text": [
            "[(3, 1), (2, 3), (1, 5), (4, 6)]\n"
          ]
        }
      ]
    },
    {
      "cell_type": "code",
      "source": [],
      "metadata": {
        "id": "dmhAIq5WPbOW"
      },
      "execution_count": null,
      "outputs": []
    },
    {
      "cell_type": "markdown",
      "source": [
        "9. Write a Python program that uses `map()` to convert a list of temperatures from Celsius to Fahrenheit"
      ],
      "metadata": {
        "id": "r-j-cK9GPck4"
      }
    },
    {
      "cell_type": "code",
      "source": [
        "# List of temperatures in Celsius\n",
        "celsius = [0, 20, 37, 100]\n",
        "\n",
        "# Convert to Fahrenheit using map() and lambda\n",
        "fahrenheit = list(map(lambda c: (c * 9/5) + 32, celsius))\n",
        "\n",
        "print(\"Celsius:    \", celsius)\n",
        "print(\"Fahrenheit: \", fahrenheit)\n"
      ],
      "metadata": {
        "colab": {
          "base_uri": "https://localhost:8080/"
        },
        "id": "9aFrmkopPhNF",
        "outputId": "2d475d24-c8f4-4495-94cb-2426abb5716b"
      },
      "execution_count": null,
      "outputs": [
        {
          "output_type": "stream",
          "name": "stdout",
          "text": [
            "Celsius:     [0, 20, 37, 100]\n",
            "Fahrenheit:  [32.0, 68.0, 98.6, 212.0]\n"
          ]
        }
      ]
    },
    {
      "cell_type": "code",
      "source": [],
      "metadata": {
        "id": "tgJ6DsV1PrsK"
      },
      "execution_count": null,
      "outputs": []
    },
    {
      "cell_type": "markdown",
      "source": [
        "10. Create a Python program that uses `filter()` to remove all the vowels from a given string."
      ],
      "metadata": {
        "id": "0TLDK9FgPzP2"
      }
    },
    {
      "cell_type": "code",
      "source": [
        "def remove_vowels(text):\n",
        "    vowels = \"aeiouAEIOU\"\n",
        "    # keep only characters that are NOT vowels\n",
        "    result = ''.join(filter(lambda ch: ch not in vowels, text))\n",
        "    return result\n",
        "\n",
        "\n",
        "# Example usage\n",
        "input_str = \"Hello World, Python is awesome!\"\n",
        "print(\"Original String:\", input_str)\n",
        "print(\"Without Vowels: \", remove_vowels(input_str))\n"
      ],
      "metadata": {
        "colab": {
          "base_uri": "https://localhost:8080/"
        },
        "id": "6AZiONwKP0nt",
        "outputId": "4d4f5820-cc88-48c8-a917-703e853dffa0"
      },
      "execution_count": null,
      "outputs": [
        {
          "output_type": "stream",
          "name": "stdout",
          "text": [
            "Original String: Hello World, Python is awesome!\n",
            "Without Vowels:  Hll Wrld, Pythn s wsm!\n"
          ]
        }
      ]
    },
    {
      "cell_type": "code",
      "source": [],
      "metadata": {
        "id": "F-CXEfhAQAqc"
      },
      "execution_count": null,
      "outputs": []
    }
  ]
}